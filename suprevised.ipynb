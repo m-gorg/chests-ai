{
  "cells": [
    {
      "cell_type": "code",
      "execution_count": null,
      "metadata": {
        "colab": {
          "base_uri": "https://localhost:8080/"
        },
        "id": "ox0Y6qRwNCZD",
        "outputId": "81c64ed1-f52d-458c-87d0-a06c0ce5bb8e"
      },
      "outputs": [],
      "source": [
        "from google.colab import drive\n",
        "drive.mount('/content/drive')"
      ]
    },
    {
      "cell_type": "code",
      "execution_count": null,
      "metadata": {
        "id": "M26RwoCxFETE"
      },
      "outputs": [],
      "source": [
        "import numpy as np\n",
        "\n",
        "X = np.load(\"drive/MyDrive/X3.npy\")\n",
        "Y = np.load(\"drive/MyDrive/Y3.npy\")\n",
        "\n",
        "ttsplit = int(len(Y) * 0.75)\n",
        "\n",
        "X_train = X[:ttsplit]\n",
        "Y_train = Y[:ttsplit]\n",
        "\n",
        "X_test = X[ttsplit:]\n",
        "Y_test = Y[ttsplit:]\n"
      ]
    },
    {
      "cell_type": "code",
      "execution_count": null,
      "metadata": {
        "id": "wNS6F8txD-Ct"
      },
      "outputs": [],
      "source": [
        "from keras.models import Sequential\n",
        "from keras.layers import InputLayer\n",
        "from keras.layers import Dense\n",
        "from keras.losses import BinaryCrossentropy\n",
        "from keras.callbacks import EarlyStopping\n",
        "\n",
        "\n",
        "observation_space_n = 3 + 3 * (20 + 15) + 20\n",
        "action_space_n = 5 * 4 + 5 * 4 + 5 * 6\n",
        "\n",
        "model = Sequential()\n",
        "model.add(InputLayer(batch_input_shape=(1, observation_space_n)))\n",
        "model.add(Dense(action_space_n, activation='linear'))\n",
        "model.compile(loss='hinge', optimizer='adam', metrics=['mae'])\n",
        "\n",
        "history = model.fit(X_train, Y_train, epochs=10, batch_size=32, validation_data=(X_test, Y_test))"
      ]
    },
    {
      "cell_type": "code",
      "execution_count": null,
      "metadata": {
        "id": "Q7tajYt6aPT4"
      },
      "outputs": [],
      "source": [
        "early_stopping_monitor = EarlyStopping(\n",
        "    monitor='val_loss',\n",
        "    min_delta=0,\n",
        "    patience=0,\n",
        "    verbose=0,\n",
        "    mode='auto',\n",
        "    baseline=None,\n",
        "    restore_best_weights=True\n",
        ")\n"
      ]
    },
    {
      "cell_type": "code",
      "execution_count": null,
      "metadata": {
        "colab": {
          "base_uri": "https://localhost:8080/"
        },
        "id": "o6o_eZMZbEyT",
        "outputId": "b034a2fb-bf74-4c2a-cd22-9027c4dbd942"
      },
      "outputs": [],
      "source": [
        "np.shape(Y)"
      ]
    },
    {
      "cell_type": "code",
      "execution_count": null,
      "metadata": {
        "colab": {
          "base_uri": "https://localhost:8080/",
          "height": 495
        },
        "id": "dNFbQto0FCPn",
        "outputId": "e9254e6e-cda7-4e48-fb2e-078d5265f4be"
      },
      "outputs": [],
      "source": [
        "history = model.fit(X_train, Y_train, epochs=10, batch_size=32, validation_data=(X_test, Y_test))"
      ]
    },
    {
      "cell_type": "code",
      "execution_count": null,
      "metadata": {
        "colab": {
          "base_uri": "https://localhost:8080/",
          "height": 472
        },
        "id": "ih0SmD3vRHU_",
        "outputId": "dd8660ae-0a34-4343-eb47-56793ebe76d2"
      },
      "outputs": [],
      "source": [
        "from matplotlib import pyplot as plt\n",
        "\n",
        "plt.plot(history.history['loss'])\n",
        "plt.plot(history.history['val_loss'])\n",
        "plt.title('model loss')\n",
        "plt.ylabel('loss')\n",
        "plt.xlabel('epoch')\n",
        "plt.legend(['train', 'val'], loc='upper left')\n",
        "plt.show()"
      ]
    },
    {
      "cell_type": "code",
      "execution_count": null,
      "metadata": {
        "id": "i6rozHDDRyBI"
      },
      "outputs": [],
      "source": [
        "model.save(\"drive/MyDrive/pretrained_smol.keras\")"
      ]
    },
    {
      "cell_type": "code",
      "execution_count": null,
      "metadata": {
        "colab": {
          "base_uri": "https://localhost:8080/"
        },
        "id": "EwlaETrHw7sG",
        "outputId": "10b6a53e-256e-408d-f432-9b3244a9637b"
      },
      "outputs": [],
      "source": [
        "Y_pred = model.predict(X_test[:10])"
      ]
    },
    {
      "cell_type": "code",
      "execution_count": null,
      "metadata": {
        "colab": {
          "base_uri": "https://localhost:8080/"
        },
        "id": "gPlTq7v1xIrg",
        "outputId": "d0e6a6a7-485b-4517-d408-9f93fe116070"
      },
      "outputs": [],
      "source": [
        "print([np.argmax(i) for i in Y_pred])\n",
        "print([np.argmax(i) for i in Y_test[:10]])"
      ]
    }
  ],
  "metadata": {
    "colab": {
      "provenance": []
    },
    "kernelspec": {
      "display_name": "Python 3",
      "name": "python3"
    },
    "language_info": {
      "name": "python"
    }
  },
  "nbformat": 4,
  "nbformat_minor": 0
}
